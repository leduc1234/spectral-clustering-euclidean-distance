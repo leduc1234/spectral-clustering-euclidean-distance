{
  "cells": [
    {
      "cell_type": "markdown",
      "metadata": {
        "id": "view-in-github",
        "colab_type": "text"
      },
      "source": [
        "<a href=\"https://colab.research.google.com/github/leduc1234/spectral-clustering-euclidean-distance/blob/main/Spectral_clustering_euclidean_distance.ipynb\" target=\"_parent\"><img src=\"https://colab.research.google.com/assets/colab-badge.svg\" alt=\"Open In Colab\"/></a>"
      ]
    },
    {
      "cell_type": "code",
      "execution_count": 1,
      "metadata": {
        "colab": {
          "base_uri": "https://localhost:8080/"
        },
        "id": "HAbTWvoOPeOP",
        "outputId": "03fb4e3e-1fdd-4cc0-e8cf-245199204c69"
      },
      "outputs": [
        {
          "output_type": "stream",
          "name": "stdout",
          "text": [
            "Mounted at /content/drive\n"
          ]
        }
      ],
      "source": [
        "from google.colab import drive\n",
        "drive.mount('/content/drive')"
      ]
    },
    {
      "cell_type": "markdown",
      "source": [
        "#Import packages and datasets"
      ],
      "metadata": {
        "id": "tL7hLDW9NZg3"
      }
    },
    {
      "cell_type": "code",
      "source": [
        "!pip install datatable"
      ],
      "metadata": {
        "id": "z1DOXbTcaZB3",
        "outputId": "45d32214-764e-4560-a0ad-3315fea3f317",
        "colab": {
          "base_uri": "https://localhost:8080/"
        }
      },
      "execution_count": 2,
      "outputs": [
        {
          "output_type": "stream",
          "name": "stdout",
          "text": [
            "Collecting datatable\n",
            "  Downloading datatable-1.0.0-cp37-cp37m-manylinux_2_12_x86_64.whl (96.9 MB)\n",
            "\u001b[K     |████████████████████████████████| 96.9 MB 107 kB/s \n",
            "\u001b[?25hInstalling collected packages: datatable\n",
            "Successfully installed datatable-1.0.0\n"
          ]
        }
      ]
    },
    {
      "cell_type": "code",
      "execution_count": 4,
      "metadata": {
        "id": "fHaZ4zJjyMX9",
        "outputId": "ee5e3234-0ff8-4c79-acb5-93b726cffac8",
        "colab": {
          "base_uri": "https://localhost:8080/",
          "height": 17
        }
      },
      "outputs": [
        {
          "output_type": "display_data",
          "data": {
            "text/plain": [
              "<IPython.core.display.HTML object>"
            ],
            "text/html": [
              "<style type='text/css'>\n",
              ".datatable table.frame { margin-bottom: 0; }\n",
              ".datatable table.frame thead { border-bottom: none; }\n",
              ".datatable table.frame tr.coltypes td {  color: #FFFFFF;  line-height: 6px;  padding: 0 0.5em;}\n",
              ".datatable .bool    { background: #DDDD99; }\n",
              ".datatable .object  { background: #565656; }\n",
              ".datatable .int     { background: #5D9E5D; }\n",
              ".datatable .float   { background: #4040CC; }\n",
              ".datatable .str     { background: #CC4040; }\n",
              ".datatable .time    { background: #40CC40; }\n",
              ".datatable .row_index {  background: var(--jp-border-color3);  border-right: 1px solid var(--jp-border-color0);  color: var(--jp-ui-font-color3);  font-size: 9px;}\n",
              ".datatable .frame tbody td { text-align: left; }\n",
              ".datatable .frame tr.coltypes .row_index {  background: var(--jp-border-color0);}\n",
              ".datatable th:nth-child(2) { padding-left: 12px; }\n",
              ".datatable .hellipsis {  color: var(--jp-cell-editor-border-color);}\n",
              ".datatable .vellipsis {  background: var(--jp-layout-color0);  color: var(--jp-cell-editor-border-color);}\n",
              ".datatable .na {  color: var(--jp-cell-editor-border-color);  font-size: 80%;}\n",
              ".datatable .sp {  opacity: 0.25;}\n",
              ".datatable .footer { font-size: 9px; }\n",
              ".datatable .frame_dimensions {  background: var(--jp-border-color3);  border-top: 1px solid var(--jp-border-color0);  color: var(--jp-ui-font-color3);  display: inline-block;  opacity: 0.6;  padding: 1px 10px 1px 5px;}\n",
              "</style>\n"
            ]
          },
          "metadata": {}
        }
      ],
      "source": [
        "import os\n",
        "import matplotlib.pyplot as plt\n",
        "import sys\n",
        "import random\n",
        "import h5py\n",
        "import numpy as np\n",
        "import warnings\n",
        "from sklearn.neighbors import kneighbors_graph\n",
        "from sklearn.cluster import SpectralClustering\n",
        "from sklearn.metrics import silhouette_score\n",
        "from sklearn.ensemble import IsolationForest\n",
        "from sklearn.cluster import KMeans\n",
        "from PIL import Image\n",
        "from matplotlib import gridspec\n",
        "import matplotlib.image as im\n",
        "from mpl_toolkits.mplot3d import Axes3D\n",
        "from sklearn.metrics import silhouette_score\n",
        "from scipy.spatial import ConvexHull, convex_hull_plot_2d\n",
        "import datatable as dtable\n",
        "import os, gc, glob\n",
        "import cv2\n",
        "import subprocess\n",
        "import pandas as pd\n",
        "from numba import njit\n",
        "from tqdm.notebook import tqdm\n",
        "import matplotlib.cm as cm\n",
        "from matplotlib import animation\n",
        "from IPython.display import HTML"
      ]
    },
    {
      "cell_type": "code",
      "execution_count": 8,
      "metadata": {
        "colab": {
          "base_uri": "https://localhost:8080/"
        },
        "id": "nTRe16LuQR64",
        "outputId": "2ddfc6d2-5d99-408c-9598-61b757e330b5"
      },
      "outputs": [
        {
          "output_type": "stream",
          "name": "stdout",
          "text": [
            "/content/drive/MyDrive/TRM/DAVIS 240C Dataset\n"
          ]
        }
      ],
      "source": [
        "#go to the directory of the dataset\n",
        "%cd \"/content/drive/MyDrive/TRM/DAVIS 240C Dataset\"  "
      ]
    },
    {
      "cell_type": "code",
      "source": [
        "!unzip '/content/drive/MyDrive/TRM/DAVIS 240C Dataset/shapes_rotation.zip'  "
      ],
      "metadata": {
        "id": "UKY_f1TbN2HF"
      },
      "execution_count": null,
      "outputs": []
    },
    {
      "cell_type": "code",
      "execution_count": 9,
      "metadata": {
        "colab": {
          "base_uri": "https://localhost:8080/",
          "height": 206
        },
        "id": "qnlKC1XaPu7X",
        "outputId": "25f6d5da-5801-4e06-964d-d27acddd574e"
      },
      "outputs": [
        {
          "output_type": "execute_result",
          "data": {
            "text/plain": [
              "   timestamp    x    y  polarity\n",
              "0   0.000000   33   39         1\n",
              "1   0.000011  158  145         1\n",
              "2   0.000050   88  143         0\n",
              "3   0.000055  174  154         0\n",
              "4   0.000080  112  139         1"
            ],
            "text/html": [
              "\n",
              "  <div id=\"df-f5bd4e6f-3f3e-4b18-b94f-206927611070\">\n",
              "    <div class=\"colab-df-container\">\n",
              "      <div>\n",
              "<style scoped>\n",
              "    .dataframe tbody tr th:only-of-type {\n",
              "        vertical-align: middle;\n",
              "    }\n",
              "\n",
              "    .dataframe tbody tr th {\n",
              "        vertical-align: top;\n",
              "    }\n",
              "\n",
              "    .dataframe thead th {\n",
              "        text-align: right;\n",
              "    }\n",
              "</style>\n",
              "<table border=\"1\" class=\"dataframe\">\n",
              "  <thead>\n",
              "    <tr style=\"text-align: right;\">\n",
              "      <th></th>\n",
              "      <th>timestamp</th>\n",
              "      <th>x</th>\n",
              "      <th>y</th>\n",
              "      <th>polarity</th>\n",
              "    </tr>\n",
              "  </thead>\n",
              "  <tbody>\n",
              "    <tr>\n",
              "      <th>0</th>\n",
              "      <td>0.000000</td>\n",
              "      <td>33</td>\n",
              "      <td>39</td>\n",
              "      <td>1</td>\n",
              "    </tr>\n",
              "    <tr>\n",
              "      <th>1</th>\n",
              "      <td>0.000011</td>\n",
              "      <td>158</td>\n",
              "      <td>145</td>\n",
              "      <td>1</td>\n",
              "    </tr>\n",
              "    <tr>\n",
              "      <th>2</th>\n",
              "      <td>0.000050</td>\n",
              "      <td>88</td>\n",
              "      <td>143</td>\n",
              "      <td>0</td>\n",
              "    </tr>\n",
              "    <tr>\n",
              "      <th>3</th>\n",
              "      <td>0.000055</td>\n",
              "      <td>174</td>\n",
              "      <td>154</td>\n",
              "      <td>0</td>\n",
              "    </tr>\n",
              "    <tr>\n",
              "      <th>4</th>\n",
              "      <td>0.000080</td>\n",
              "      <td>112</td>\n",
              "      <td>139</td>\n",
              "      <td>1</td>\n",
              "    </tr>\n",
              "  </tbody>\n",
              "</table>\n",
              "</div>\n",
              "      <button class=\"colab-df-convert\" onclick=\"convertToInteractive('df-f5bd4e6f-3f3e-4b18-b94f-206927611070')\"\n",
              "              title=\"Convert this dataframe to an interactive table.\"\n",
              "              style=\"display:none;\">\n",
              "        \n",
              "  <svg xmlns=\"http://www.w3.org/2000/svg\" height=\"24px\"viewBox=\"0 0 24 24\"\n",
              "       width=\"24px\">\n",
              "    <path d=\"M0 0h24v24H0V0z\" fill=\"none\"/>\n",
              "    <path d=\"M18.56 5.44l.94 2.06.94-2.06 2.06-.94-2.06-.94-.94-2.06-.94 2.06-2.06.94zm-11 1L8.5 8.5l.94-2.06 2.06-.94-2.06-.94L8.5 2.5l-.94 2.06-2.06.94zm10 10l.94 2.06.94-2.06 2.06-.94-2.06-.94-.94-2.06-.94 2.06-2.06.94z\"/><path d=\"M17.41 7.96l-1.37-1.37c-.4-.4-.92-.59-1.43-.59-.52 0-1.04.2-1.43.59L10.3 9.45l-7.72 7.72c-.78.78-.78 2.05 0 2.83L4 21.41c.39.39.9.59 1.41.59.51 0 1.02-.2 1.41-.59l7.78-7.78 2.81-2.81c.8-.78.8-2.07 0-2.86zM5.41 20L4 18.59l7.72-7.72 1.47 1.35L5.41 20z\"/>\n",
              "  </svg>\n",
              "      </button>\n",
              "      \n",
              "  <style>\n",
              "    .colab-df-container {\n",
              "      display:flex;\n",
              "      flex-wrap:wrap;\n",
              "      gap: 12px;\n",
              "    }\n",
              "\n",
              "    .colab-df-convert {\n",
              "      background-color: #E8F0FE;\n",
              "      border: none;\n",
              "      border-radius: 50%;\n",
              "      cursor: pointer;\n",
              "      display: none;\n",
              "      fill: #1967D2;\n",
              "      height: 32px;\n",
              "      padding: 0 0 0 0;\n",
              "      width: 32px;\n",
              "    }\n",
              "\n",
              "    .colab-df-convert:hover {\n",
              "      background-color: #E2EBFA;\n",
              "      box-shadow: 0px 1px 2px rgba(60, 64, 67, 0.3), 0px 1px 3px 1px rgba(60, 64, 67, 0.15);\n",
              "      fill: #174EA6;\n",
              "    }\n",
              "\n",
              "    [theme=dark] .colab-df-convert {\n",
              "      background-color: #3B4455;\n",
              "      fill: #D2E3FC;\n",
              "    }\n",
              "\n",
              "    [theme=dark] .colab-df-convert:hover {\n",
              "      background-color: #434B5C;\n",
              "      box-shadow: 0px 1px 3px 1px rgba(0, 0, 0, 0.15);\n",
              "      filter: drop-shadow(0px 1px 2px rgba(0, 0, 0, 0.3));\n",
              "      fill: #FFFFFF;\n",
              "    }\n",
              "  </style>\n",
              "\n",
              "      <script>\n",
              "        const buttonEl =\n",
              "          document.querySelector('#df-f5bd4e6f-3f3e-4b18-b94f-206927611070 button.colab-df-convert');\n",
              "        buttonEl.style.display =\n",
              "          google.colab.kernel.accessAllowed ? 'block' : 'none';\n",
              "\n",
              "        async function convertToInteractive(key) {\n",
              "          const element = document.querySelector('#df-f5bd4e6f-3f3e-4b18-b94f-206927611070');\n",
              "          const dataTable =\n",
              "            await google.colab.kernel.invokeFunction('convertToInteractive',\n",
              "                                                     [key], {});\n",
              "          if (!dataTable) return;\n",
              "\n",
              "          const docLinkHtml = 'Like what you see? Visit the ' +\n",
              "            '<a target=\"_blank\" href=https://colab.research.google.com/notebooks/data_table.ipynb>data table notebook</a>'\n",
              "            + ' to learn more about interactive tables.';\n",
              "          element.innerHTML = '';\n",
              "          dataTable['output_type'] = 'display_data';\n",
              "          await google.colab.output.renderOutput(dataTable, element);\n",
              "          const docLink = document.createElement('div');\n",
              "          docLink.innerHTML = docLinkHtml;\n",
              "          element.appendChild(docLink);\n",
              "        }\n",
              "      </script>\n",
              "    </div>\n",
              "  </div>\n",
              "  "
            ]
          },
          "metadata": {},
          "execution_count": 9
        }
      ],
      "source": [
        "#check the attributes inside the dataset\n",
        "file = dtable.fread('/content/drive/MyDrive/TRM/DAVIS 240C Dataset/events.txt', sep = ' ').to_pandas()\n",
        "file.columns = ['timestamp', 'x', 'y', 'polarity']\n",
        "file['polarity'] *= 1\n",
        "file.head()"
      ]
    },
    {
      "cell_type": "code",
      "execution_count": 10,
      "metadata": {
        "colab": {
          "base_uri": "https://localhost:8080/",
          "height": 300
        },
        "id": "yuUw1mxEQm9U",
        "outputId": "fe390aea-a950-4e75-998f-f0fb40963431"
      },
      "outputs": [
        {
          "output_type": "execute_result",
          "data": {
            "text/plain": [
              "          timestamp             x             y      polarity\n",
              "count  2.312629e+07  2.312629e+07  2.312629e+07  2.312629e+07\n",
              "mean   3.489797e+01  1.296182e+02  9.755328e+01  4.304008e-01\n",
              "std    1.571532e+01  6.579827e+01  4.848361e+01  4.951323e-01\n",
              "min    0.000000e+00  0.000000e+00  0.000000e+00  0.000000e+00\n",
              "25%    2.267385e+01  7.200000e+01  5.700000e+01  0.000000e+00\n",
              "50%    3.651968e+01  1.360000e+02  1.020000e+02  0.000000e+00\n",
              "75%    4.820719e+01  1.860000e+02  1.380000e+02  1.000000e+00\n",
              "max    5.979839e+01  2.390000e+02  1.790000e+02  1.000000e+00"
            ],
            "text/html": [
              "\n",
              "  <div id=\"df-88e99228-827c-4f3d-b74b-40d5a7bf07ba\">\n",
              "    <div class=\"colab-df-container\">\n",
              "      <div>\n",
              "<style scoped>\n",
              "    .dataframe tbody tr th:only-of-type {\n",
              "        vertical-align: middle;\n",
              "    }\n",
              "\n",
              "    .dataframe tbody tr th {\n",
              "        vertical-align: top;\n",
              "    }\n",
              "\n",
              "    .dataframe thead th {\n",
              "        text-align: right;\n",
              "    }\n",
              "</style>\n",
              "<table border=\"1\" class=\"dataframe\">\n",
              "  <thead>\n",
              "    <tr style=\"text-align: right;\">\n",
              "      <th></th>\n",
              "      <th>timestamp</th>\n",
              "      <th>x</th>\n",
              "      <th>y</th>\n",
              "      <th>polarity</th>\n",
              "    </tr>\n",
              "  </thead>\n",
              "  <tbody>\n",
              "    <tr>\n",
              "      <th>count</th>\n",
              "      <td>2.312629e+07</td>\n",
              "      <td>2.312629e+07</td>\n",
              "      <td>2.312629e+07</td>\n",
              "      <td>2.312629e+07</td>\n",
              "    </tr>\n",
              "    <tr>\n",
              "      <th>mean</th>\n",
              "      <td>3.489797e+01</td>\n",
              "      <td>1.296182e+02</td>\n",
              "      <td>9.755328e+01</td>\n",
              "      <td>4.304008e-01</td>\n",
              "    </tr>\n",
              "    <tr>\n",
              "      <th>std</th>\n",
              "      <td>1.571532e+01</td>\n",
              "      <td>6.579827e+01</td>\n",
              "      <td>4.848361e+01</td>\n",
              "      <td>4.951323e-01</td>\n",
              "    </tr>\n",
              "    <tr>\n",
              "      <th>min</th>\n",
              "      <td>0.000000e+00</td>\n",
              "      <td>0.000000e+00</td>\n",
              "      <td>0.000000e+00</td>\n",
              "      <td>0.000000e+00</td>\n",
              "    </tr>\n",
              "    <tr>\n",
              "      <th>25%</th>\n",
              "      <td>2.267385e+01</td>\n",
              "      <td>7.200000e+01</td>\n",
              "      <td>5.700000e+01</td>\n",
              "      <td>0.000000e+00</td>\n",
              "    </tr>\n",
              "    <tr>\n",
              "      <th>50%</th>\n",
              "      <td>3.651968e+01</td>\n",
              "      <td>1.360000e+02</td>\n",
              "      <td>1.020000e+02</td>\n",
              "      <td>0.000000e+00</td>\n",
              "    </tr>\n",
              "    <tr>\n",
              "      <th>75%</th>\n",
              "      <td>4.820719e+01</td>\n",
              "      <td>1.860000e+02</td>\n",
              "      <td>1.380000e+02</td>\n",
              "      <td>1.000000e+00</td>\n",
              "    </tr>\n",
              "    <tr>\n",
              "      <th>max</th>\n",
              "      <td>5.979839e+01</td>\n",
              "      <td>2.390000e+02</td>\n",
              "      <td>1.790000e+02</td>\n",
              "      <td>1.000000e+00</td>\n",
              "    </tr>\n",
              "  </tbody>\n",
              "</table>\n",
              "</div>\n",
              "      <button class=\"colab-df-convert\" onclick=\"convertToInteractive('df-88e99228-827c-4f3d-b74b-40d5a7bf07ba')\"\n",
              "              title=\"Convert this dataframe to an interactive table.\"\n",
              "              style=\"display:none;\">\n",
              "        \n",
              "  <svg xmlns=\"http://www.w3.org/2000/svg\" height=\"24px\"viewBox=\"0 0 24 24\"\n",
              "       width=\"24px\">\n",
              "    <path d=\"M0 0h24v24H0V0z\" fill=\"none\"/>\n",
              "    <path d=\"M18.56 5.44l.94 2.06.94-2.06 2.06-.94-2.06-.94-.94-2.06-.94 2.06-2.06.94zm-11 1L8.5 8.5l.94-2.06 2.06-.94-2.06-.94L8.5 2.5l-.94 2.06-2.06.94zm10 10l.94 2.06.94-2.06 2.06-.94-2.06-.94-.94-2.06-.94 2.06-2.06.94z\"/><path d=\"M17.41 7.96l-1.37-1.37c-.4-.4-.92-.59-1.43-.59-.52 0-1.04.2-1.43.59L10.3 9.45l-7.72 7.72c-.78.78-.78 2.05 0 2.83L4 21.41c.39.39.9.59 1.41.59.51 0 1.02-.2 1.41-.59l7.78-7.78 2.81-2.81c.8-.78.8-2.07 0-2.86zM5.41 20L4 18.59l7.72-7.72 1.47 1.35L5.41 20z\"/>\n",
              "  </svg>\n",
              "      </button>\n",
              "      \n",
              "  <style>\n",
              "    .colab-df-container {\n",
              "      display:flex;\n",
              "      flex-wrap:wrap;\n",
              "      gap: 12px;\n",
              "    }\n",
              "\n",
              "    .colab-df-convert {\n",
              "      background-color: #E8F0FE;\n",
              "      border: none;\n",
              "      border-radius: 50%;\n",
              "      cursor: pointer;\n",
              "      display: none;\n",
              "      fill: #1967D2;\n",
              "      height: 32px;\n",
              "      padding: 0 0 0 0;\n",
              "      width: 32px;\n",
              "    }\n",
              "\n",
              "    .colab-df-convert:hover {\n",
              "      background-color: #E2EBFA;\n",
              "      box-shadow: 0px 1px 2px rgba(60, 64, 67, 0.3), 0px 1px 3px 1px rgba(60, 64, 67, 0.15);\n",
              "      fill: #174EA6;\n",
              "    }\n",
              "\n",
              "    [theme=dark] .colab-df-convert {\n",
              "      background-color: #3B4455;\n",
              "      fill: #D2E3FC;\n",
              "    }\n",
              "\n",
              "    [theme=dark] .colab-df-convert:hover {\n",
              "      background-color: #434B5C;\n",
              "      box-shadow: 0px 1px 3px 1px rgba(0, 0, 0, 0.15);\n",
              "      filter: drop-shadow(0px 1px 2px rgba(0, 0, 0, 0.3));\n",
              "      fill: #FFFFFF;\n",
              "    }\n",
              "  </style>\n",
              "\n",
              "      <script>\n",
              "        const buttonEl =\n",
              "          document.querySelector('#df-88e99228-827c-4f3d-b74b-40d5a7bf07ba button.colab-df-convert');\n",
              "        buttonEl.style.display =\n",
              "          google.colab.kernel.accessAllowed ? 'block' : 'none';\n",
              "\n",
              "        async function convertToInteractive(key) {\n",
              "          const element = document.querySelector('#df-88e99228-827c-4f3d-b74b-40d5a7bf07ba');\n",
              "          const dataTable =\n",
              "            await google.colab.kernel.invokeFunction('convertToInteractive',\n",
              "                                                     [key], {});\n",
              "          if (!dataTable) return;\n",
              "\n",
              "          const docLinkHtml = 'Like what you see? Visit the ' +\n",
              "            '<a target=\"_blank\" href=https://colab.research.google.com/notebooks/data_table.ipynb>data table notebook</a>'\n",
              "            + ' to learn more about interactive tables.';\n",
              "          element.innerHTML = '';\n",
              "          dataTable['output_type'] = 'display_data';\n",
              "          await google.colab.output.renderOutput(dataTable, element);\n",
              "          const docLink = document.createElement('div');\n",
              "          docLink.innerHTML = docLinkHtml;\n",
              "          element.appendChild(docLink);\n",
              "        }\n",
              "      </script>\n",
              "    </div>\n",
              "  </div>\n",
              "  "
            ]
          },
          "metadata": {},
          "execution_count": 10
        }
      ],
      "source": [
        "#get a summary of the attributes\n",
        "file.describe()"
      ]
    },
    {
      "cell_type": "markdown",
      "source": [
        "#Spectral clustering"
      ],
      "metadata": {
        "id": "RqmEe0nTL87k"
      }
    },
    {
      "cell_type": "markdown",
      "source": [
        "Clustering algorithm adapted from \n",
        "@inproceedings{mondal2021moving,\n",
        "  title={Moving Object Detection for Event-based Vision using Graph Spectral Clustering},\n",
        "  author={Mondal, Anindya and Shashant, R and Giraldo, Jhony H and Bouwmans, Thierry and Chowdhury, Ananda S},\n",
        "  booktitle={2021 IEEE/CVF International Conference on Computer Vision Workshops (ICCVW)},\n",
        "  pages={876--884},\n",
        "  year={2021},\n",
        "  organization={IEEE}\n",
        "}"
      ],
      "metadata": {
        "id": "r56whkj9wy3J"
      }
    },
    {
      "cell_type": "code",
      "execution_count": 11,
      "metadata": {
        "colab": {
          "base_uri": "https://localhost:8080/"
        },
        "id": "3hb-LhB25bs_",
        "outputId": "e9dbf8b2-a54f-4b67-8bb3-0513d896f29c"
      },
      "outputs": [
        {
          "output_type": "stream",
          "name": "stdout",
          "text": [
            "calib.txt\t\t    groundtruth.txt  imu.txt\t\t  sort\n",
            "DAVIS\\ 240C\\ Dataset.ipynb  images\t     results\t\t  video.mp4\n",
            "events.txt\t\t    images.txt\t     shapes_rotation.zip\n"
          ]
        }
      ],
      "source": [
        "!dir #check current directory make sure to be in the dataset directory"
      ]
    },
    {
      "cell_type": "code",
      "execution_count": null,
      "metadata": {
        "colab": {
          "background_save": true,
          "base_uri": "https://localhost:8080/"
        },
        "id": "1dDdeOsu5P2w",
        "outputId": "020d4123-06a5-4805-f3fd-17425d409f51"
      },
      "outputs": [
        {
          "name": "stdout",
          "output_type": "stream",
          "text": [
            "reading davis dataset...\n",
            "23126288 events in dataset...\n",
            "dividing the sequence into 1000 segments...\n",
            "each segment has 23126 events, out of which 5781 events will be selected...\n",
            "segment no: 1\n",
            "removing noise...\n",
            "constructing graph...\n",
            "finding optimal number of clusters...\n",
            "clustering...\n",
            "saving files...\n",
            "segment no: 2\n",
            "removing noise...\n",
            "constructing graph...\n",
            "finding optimal number of clusters...\n",
            "clustering...\n",
            "saving files...\n",
            "segment no: 3\n",
            "removing noise...\n",
            "constructing graph...\n",
            "finding optimal number of clusters...\n",
            "clustering...\n",
            "saving files...\n",
            "segment no: 4\n",
            "removing noise...\n",
            "constructing graph...\n",
            "finding optimal number of clusters...\n",
            "clustering...\n",
            "saving files...\n",
            "segment no: 5\n",
            "removing noise...\n",
            "constructing graph...\n",
            "finding optimal number of clusters...\n",
            "clustering...\n",
            "saving files...\n",
            "segment no: 6\n",
            "removing noise...\n",
            "constructing graph...\n",
            "finding optimal number of clusters...\n",
            "clustering...\n",
            "saving files...\n",
            "segment no: 7\n",
            "removing noise...\n",
            "constructing graph...\n",
            "finding optimal number of clusters...\n",
            "clustering...\n",
            "saving files...\n",
            "segment no: 8\n",
            "removing noise...\n",
            "constructing graph...\n",
            "finding optimal number of clusters...\n",
            "clustering...\n",
            "saving files...\n",
            "segment no: 9\n",
            "removing noise...\n",
            "constructing graph...\n",
            "finding optimal number of clusters...\n",
            "clustering...\n",
            "saving files...\n",
            "segment no: 10\n",
            "removing noise...\n",
            "constructing graph...\n",
            "finding optimal number of clusters...\n",
            "clustering...\n",
            "saving files...\n",
            "done\n"
          ]
        }
      ],
      "source": [
        "import os\n",
        "import matplotlib.pyplot as plt\n",
        "import random\n",
        "import h5py\n",
        "import numpy as np\n",
        "import warnings\n",
        "from sklearn.neighbors import kneighbors_graph\n",
        "from sklearn.cluster import SpectralClustering\n",
        "from sklearn.metrics import silhouette_score\n",
        "from sklearn.ensemble import IsolationForest\n",
        "print('reading davis dataset...')\n",
        "\n",
        "#davis parameters\n",
        "file = dtable.fread('/content/drive/MyDrive/TRM/DAVIS 240C Dataset/events.txt', sep = ' ').to_pandas()\n",
        "file.columns = ['timestamp', 'x', 'y', 'polarity']\n",
        "file['polarity'] *= 1\n",
        "ts = np.array(file['timestamp'].values)\n",
        "x = np.array(file['x'].values)\n",
        "y = np.array(file['y'].values)\n",
        "pol = np.array(file['polarity'].values)\n",
        "\n",
        "warnings.filterwarnings('ignore', '.*Graph is not fully connected*')\n",
        "ALL = len(pol)\n",
        "NEIGHBORS = 30\n",
        "print(str(ALL)+' events in dataset...')\n",
        "seg = 1000\n",
        "while seg >= 1000:\n",
        "    print('dividing the sequence into '+str(seg)+' segments...')\n",
        "    X = ALL//seg\n",
        "    print('each segment has '+str(X)+' events, out of which '+str(X//4)+' events will be selected...')\n",
        "    for sl_no in range(0,10):\n",
        "\n",
        "        print('segment no: '+str(sl_no+1))\n",
        "        selected_events = []\n",
        "        for i in range(0,ALL)[sl_no*X:sl_no*X+X]:\n",
        "            selected_events.append([y[i], x[i], ts[i]*0.0001, pol[i]*0])\n",
        "        selected_events = np.asarray(selected_events)\n",
        "\n",
        "        print('removing noise...')\n",
        "        cleaned_events = IsolationForest(random_state=0, n_jobs=-1, contamination=0.05).fit(selected_events)\n",
        "        unwanted_events = cleaned_events.predict(selected_events)\n",
        "        selected_events_cleaned = selected_events[np.where(unwanted_events == 1, True, False)]\n",
        "\n",
        "        print('constructing graph...')\n",
        "        adMat_cleaned = kneighbors_graph(selected_events_cleaned, n_neighbors=NEIGHBORS)\n",
        "\n",
        "        print('finding optimal number of clusters...')\n",
        "        max_score = -20\n",
        "        opt_clusters = 2\n",
        "        for CLUSTERS in range(2, 10):\n",
        "            clustering = SpectralClustering(n_clusters=CLUSTERS, random_state=0,\n",
        "                                            affinity='precomputed_nearest_neighbors',\n",
        "                                            n_neighbors=NEIGHBORS, assign_labels='kmeans',\n",
        "                                            n_jobs=-1).fit_predict(adMat_cleaned)\n",
        "            curr_score = silhouette_score(selected_events_cleaned, clustering)\n",
        "            if curr_score > max_score:\n",
        "                max_score = curr_score\n",
        "                opt_clusters = CLUSTERS\n",
        "\n",
        "        print('clustering...')\n",
        "        clustering_opt = SpectralClustering(n_clusters=opt_clusters, random_state=0,\n",
        "                                            affinity='precomputed_nearest_neighbors',\n",
        "                                            n_neighbors=NEIGHBORS, assign_labels='kmeans',\n",
        "                                            n_jobs=-1).fit_predict(adMat_cleaned)\n",
        "\n",
        "        print('saving files...')\n",
        "\n",
        "        yy = str(sl_no)\n",
        "        file_name = yy\n",
        "        os.makedirs('results/davis240/'+str(seg)+'/selected_events', exist_ok=True)\n",
        "        os.makedirs('results/davis240/'+str(seg)+'/clusters', exist_ok=True)\n",
        "        np.save(os.path.join('results/davis240/'+str(seg)+'/selected_events', file_name + '.npy'), selected_events_cleaned)\n",
        "        np.save(os.path.join('results/davis240/'+str(seg)+'/clusters', file_name + '.npy'), clustering_opt)\n",
        "    break\n",
        "print('done')"
      ]
    },
    {
      "cell_type": "markdown",
      "source": [
        "#Euclidean distance motion model"
      ],
      "metadata": {
        "id": "OSKfYs7CMfF5"
      }
    },
    {
      "cell_type": "code",
      "source": [
        "import matplotlib.patches as patches\n",
        "import math\n",
        "import inspect\n",
        "class EuclideanDistTracker:\n",
        "    def __init__(self):\n",
        "        # Store the center positions of the objects\n",
        "        self.center_points = {}\n",
        "        # Keep the count of the IDs\n",
        "        # each time a new object id detected, the count will increase by one\n",
        "        self.id_count = 1\n",
        "\n",
        "\n",
        "    def update(self, objects_rect):\n",
        "        # Objects boxes and ids\n",
        "        objects_bbs_ids = []\n",
        "\n",
        "        # Get center point of new object\n",
        "        for rect in objects_rect:\n",
        "            x, y, w, h = rect\n",
        "            cx = (x + x + w) // 2\n",
        "            cy = (y + y + h) // 2\n",
        "\n",
        "            # Find out if that object was detected already\n",
        "            same_object_detected = False\n",
        "            for id, pt in self.center_points.items():\n",
        "                dist = math.hypot(cx - pt[0], cy - pt[1])\n",
        "\n",
        "                if dist < 40:\n",
        "                    self.center_points[id] = (cx, cy)\n",
        "                    #print(self.center_points)\n",
        "                    objects_bbs_ids.append([x, y, w, h, id])\n",
        "                    same_object_detected = True\n",
        "                    break\n",
        "\n",
        "            # New object is detected we assign the ID to that object\n",
        "            if same_object_detected is False:\n",
        "                self.center_points[self.id_count] = (cx, cy)\n",
        "                objects_bbs_ids.append([x, y, w, h, self.id_count])\n",
        "                self.id_count += 1\n",
        "\n",
        "        # Clean the dictionary by center points to remove IDS not used anymore\n",
        "        new_center_points = {}\n",
        "        for obj_bb_id in objects_bbs_ids:\n",
        "            _, _, _, _, object_id = obj_bb_id\n",
        "            center = self.center_points[object_id]\n",
        "            new_center_points[object_id] = center\n",
        "\n",
        "        # Update dictionary with IDs not used removed\n",
        "        self.center_points = new_center_points.copy()\n",
        "        return objects_bbs_ids"
      ],
      "metadata": {
        "id": "Mmi3ByNszrYa"
      },
      "execution_count": 12,
      "outputs": []
    },
    {
      "cell_type": "markdown",
      "source": [
        "#Spectral clustering + Euclidean distance motion model visualisation"
      ],
      "metadata": {
        "id": "b2wuJSiJNMz8"
      }
    },
    {
      "cell_type": "code",
      "source": [
        "j=1000\n",
        "\n",
        "\n",
        "tracker = EuclideanDistTracker()\n",
        "\n",
        "for i in range(1,10):\n",
        "  boxes = []\n",
        "\n",
        "\n",
        "  print(i)\n",
        "  yy = str(i)\n",
        "  file_name = yy\n",
        "  selected_events = np.load(\"results/davis240/\"+str(j)+\"/selected_events/\"+file_name+\".npy\")\n",
        "  cluster = np.load(\"results/davis240/\"+str(j)+\"/clusters/\"+file_name+\".npy\")\n",
        "  img = cv2.imread(\"/content/drive/MyDrive/TRM/DAVIS 240C Dataset/images/frame_00000010.png\")\n",
        "  #set plot axis values\n",
        "  fig,ax = plt.subplots()\n",
        "\n",
        "  ax.plot(range(5))\n",
        "  plt.xlim(0, 300)\n",
        "  plt.ylim(0, 300)\n",
        "  plt.gca().set_aspect('equal', adjustable='box')\n",
        "  x = np.array(selected_events[:, 0])\n",
        "  x = 260-x\n",
        "  y = np.array(selected_events[:, 1])\n",
        "  y = y + 25\n",
        "  z = np.array(selected_events[:, 2]*100)\n",
        "\n",
        "  \n",
        " # print(x[np.where(cluster == 0, True, False)])\n",
        "  for i in range(0,9):\n",
        "    #this for loop finds the center of each of the clusters and appends value into boxes array for euclidean class to \n",
        "    #create a unique id for each bounding box class\n",
        "    small1 = -999\n",
        "    small2 = 999\n",
        "    for ele1 in y[np.where(cluster == i, True, False)]:\n",
        "      if(ele1 > small1):\n",
        "        small1 = ele1\n",
        "\n",
        "    for ele2 in x[np.where(cluster == i, True, False)]:\n",
        "      if(ele2 < small2):\n",
        "        small2 = ele2\n",
        "\n",
        "    big1 = 999\n",
        "    big2 = 999\n",
        "    for ele3 in y[np.where(cluster == i, True, False)]:\n",
        "      if(ele3 < big1):\n",
        "        big1 = ele3\n",
        "\n",
        "    for ele4 in x[np.where(cluster == i, True, False)]:\n",
        "      if(ele4 < big2):\n",
        "        big2 = ele4\n",
        "\n",
        "    height1 = 999\n",
        "    height2 = -999\n",
        "    for ele1 in y[np.where(cluster == i, True, False)]:\n",
        "      if(ele1 < height1):\n",
        "        height1 = ele1\n",
        "\n",
        "    for ele2 in x[np.where(cluster == i, True, False)]:\n",
        "      if(ele2 > height2):\n",
        "        height2 = ele2\n",
        "\n",
        " #   print(small1)\n",
        "#    print(small2)\n",
        " #   print(big1)\n",
        "#    print(big2)\n",
        " #   print(height1)\n",
        "#    print(height2)\n",
        " #   print(int(small1)-int(big1))\n",
        "\n",
        " #create star at the points\n",
        "  #  plt.scatter(small1, small2, marker = \"*\", s=100, color = \"black\")\n",
        " #   plt.scatter(big1, big2, marker = \"*\", s=100, color = \"black\")\n",
        " #   plt.scatter(height1, height2, marker = \"*\", s=100, color = \"black\")\n",
        "\n",
        "    #x,y top left, w = width , h = height\n",
        "    width = int(small1)-int(big1)\n",
        "    height = int(height2)-int(big2)\n",
        "    small1 = int(small1)\n",
        "    small1 = int(small2)\n",
        "    big1 = int(big1)\n",
        "    big2 = int(big2)\n",
        "   # rect = patches.Rectangle((int(big1),int(big2)),width,height, fill=False, edgecolor='red',lw=2)\n",
        "\n",
        "    centerx = big2 + height/2\n",
        "    centery = big1 + width/2\n",
        "  #  print(centerx)\n",
        "  #  print(centery)\n",
        "    \n",
        "    \n",
        "\n",
        "\n",
        "    boxes.append([int(big1), int(big2), width, height])\n",
        "    \n",
        "  \n",
        "#update the euclidean class with current boxes\n",
        "  boxes_ids = tracker.update(boxes)\n",
        "  count = []\n",
        "  filtered =[]\n",
        "  for i in range(len(boxes_ids)):\n",
        "        if(boxes_ids[i][4] not in count and boxes_ids[i][1] < 800):\n",
        "            count.append(boxes_ids[i][4])\n",
        "            filtered.append(boxes_ids[i])\n",
        "#  print(count)\n",
        "  print(filtered)\n",
        "#  print(boxes_ids)\n",
        "\n",
        "  for box_id in filtered:\n",
        "            xcoord, ycoord, w, h, id = box_id\n",
        "            if(id % 1 == 0):\n",
        "                rect = patches.Rectangle((xcoord,ycoord),w,h, fill=False, edgecolor='b',lw=2)\n",
        "                ax.add_patch(rect)\n",
        "                plt.text(xcoord+(w/2),ycoord+(h/2), id)\n",
        "            if(id % 2 == 0):\n",
        "              rect = patches.Rectangle((xcoord,ycoord),w,h, fill=False, edgecolor='r',lw=2)\n",
        "              ax.add_patch(rect)\n",
        "              plt.text(xcoord+(w/2),ycoord+(h/2), id)\n",
        "            if(id % 3 == 0):\n",
        "              rect = patches.Rectangle((xcoord,ycoord),w,h, fill=False, edgecolor='g',lw=2)\n",
        "              ax.add_patch(rect)\n",
        "              plt.text(xcoord+(w/2),ycoord+(h/2), id)\n",
        "            if(id % 4 == 0):\n",
        "              rect = patches.Rectangle((xcoord,ycoord),w,h, fill=False, edgecolor='c',lw=2)\n",
        "              ax.add_patch(rect)\n",
        "              plt.text(xcoord+(w/2),ycoord+(h/2), id)\n",
        "            if(id % 5 == 0):\n",
        "              rect = patches.Rectangle((xcoord,ycoord),w,h, fill=False, edgecolor='m',lw=2)\n",
        "              ax.add_patch(rect)\n",
        "              plt.text(xcoord+(w/2),ycoord+(h/2), id)\n",
        "            if(id % 6 == 0):\n",
        "              rect = patches.Rectangle((xcoord,ycoord),w,h, fill=False, edgecolor='y',lw=2)\n",
        "              ax.add_patch(rect)\n",
        "              plt.text(xcoord+(w/2),ycoord+(h/2), id)\n",
        "            if(id % 7 == 0):\n",
        "              rect = patches.Rectangle((xcoord,ycoord),w,h, fill=False, edgecolor='k',lw=2)\n",
        "              ax.add_patch(rect)\n",
        "              plt.text(xcoord+(w/2),ycoord+(h/2), id)\n",
        "            if(id % 8 == 0):\n",
        "              rect = patches.Rectangle((xcoord,ycoord),w,h, fill=False, edgecolor='purple',lw=2)\n",
        "              ax.add_patch(rect)\n",
        "              plt.text(xcoord+(w/2),ycoord+(h/2), id)\n",
        "              \n",
        "\n",
        "            \n",
        "\n",
        "  for i in range(0,9):\n",
        "   plt.scatter(y[np.where(cluster == i, True, False)], x[np.where(cluster == i, True, False)], z[np.where(cluster == i, True, False)])\n",
        "\n",
        "\n",
        "  #plot events\n",
        "\n",
        " # plt.scatter(y,x,z)\n",
        "  \n",
        "\n",
        "  plt.show()"
      ],
      "metadata": {
        "colab": {
          "base_uri": "https://localhost:8080/",
          "height": 1000
        },
        "id": "8r8_rlkNzU82",
        "outputId": "63559f8e-9b1c-4898-8755-aac5492a6a16"
      },
      "execution_count": 18,
      "outputs": [
        {
          "output_type": "stream",
          "name": "stdout",
          "text": [
            "1\n",
            "[[109, 185, 76, 48, 1], [157, 81, 105, 60, 2], [35, 124, 68, 47, 3], [149, 142, 109, 56, 4], [45, 176, 48, 42, 5], [103, 95, 54, 45, 6], [199, 226, 50, 26, 7]]\n"
          ]
        },
        {
          "output_type": "display_data",
          "data": {
            "text/plain": [
              "<Figure size 432x288 with 1 Axes>"
            ],
            "image/png": "[encoded data removed]"
          },
          "metadata": {
            "needs_background": "light"
          }
        },
        {
          "output_type": "stream",
          "name": "stdout",
          "text": [
            "2\n",
            "[[217, 222, 44, 35, 7], [115, 95, 62, 44, 6], [173, 81, 84, 60, 2], [164, 143, 100, 57, 4], [127, 185, 74, 49, 1], [51, 115, 67, 57, 3], [62, 175, 45, 41, 5]]\n"
          ]
        },
        {
          "output_type": "display_data",
          "data": {
            "text/plain": [
              "<Figure size 432x288 with 1 Axes>"
            ],
            "image/png": "[encoded data removed]"
          },
          "metadata": {
            "needs_background": "light"
          }
        },
        {
          "output_type": "stream",
          "name": "stdout",
          "text": [
            "3\n",
            "[[73, 186, 51, 40, 5], [131, 95, 66, 48, 6], [188, 82, 76, 61, 2], [145, 185, 75, 49, 1], [179, 144, 85, 43, 4], [66, 125, 64, 51, 3], [246, 224, 18, 30, 7]]\n"
          ]
        },
        {
          "output_type": "display_data",
          "data": {
            "text/plain": [
              "<Figure size 432x288 with 1 Axes>"
            ],
            "image/png": "[encoded data removed]"
          },
          "metadata": {
            "needs_background": "light"
          }
        },
        {
          "output_type": "stream",
          "name": "stdout",
          "text": [
            "4\n",
            "[[201, 81, 63, 48, 2], [141, 96, 57, 63, 6], [160, 185, 71, 49, 1], [77, 129, 63, 42, 3], [86, 176, 44, 41, 5], [198, 143, 66, 43, 4]]\n"
          ]
        },
        {
          "output_type": "display_data",
          "data": {
            "text/plain": [
              "<Figure size 432x288 with 1 Axes>"
            ],
            "image/png": "[encoded data removed]"
          },
          "metadata": {
            "needs_background": "light"
          }
        },
        {
          "output_type": "stream",
          "name": "stdout",
          "text": [
            "5\n",
            "[[62, 127, 69, 50, 3], [123, 96, 68, 62, 6], [145, 185, 68, 49, 1], [220, 90, 44, 36, 2], [207, 140, 57, 44, 4], [74, 179, 49, 54, 5], [251, 221, 13, 28, 9]]\n"
          ]
        },
        {
          "output_type": "display_data",
          "data": {
            "text/plain": [
              "<Figure size 432x288 with 1 Axes>"
            ],
            "image/png": "[encoded data removed]"
          },
          "metadata": {
            "needs_background": "light"
          }
        },
        {
          "output_type": "stream",
          "name": "stdout",
          "text": [
            "6\n",
            "[[205, 88, 46, 49, 2], [107, 96, 69, 61, 6], [131, 185, 75, 49, 1], [193, 139, 70, 59, 4], [46, 115, 65, 62, 3], [169, 81, 41, 31, 10], [237, 211, 26, 38, 9], [58, 176, 55, 59, 5]]\n"
          ]
        },
        {
          "output_type": "display_data",
          "data": {
            "text/plain": [
              "<Figure size 432x288 with 1 Axes>"
            ],
            "image/png": "[encoded data removed]"
          },
          "metadata": {
            "needs_background": "light"
          }
        },
        {
          "output_type": "stream",
          "name": "stdout",
          "text": [
            "7\n",
            "[[33, 115, 62, 59, 3], [153, 81, 42, 30, 10], [109, 185, 84, 52, 1], [179, 138, 85, 42, 4], [93, 96, 88, 60, 6], [199, 210, 64, 37, 9], [38, 175, 56, 44, 5], [189, 86, 60, 36, 2]]\n"
          ]
        },
        {
          "output_type": "display_data",
          "data": {
            "text/plain": [
              "<Figure size 432x288 with 1 Axes>"
            ],
            "image/png": "[encoded data removed]"
          },
          "metadata": {
            "needs_background": "light"
          }
        },
        {
          "output_type": "stream",
          "name": "stdout",
          "text": [
            "8\n",
            "[[199, 208, 54, 37, 9], [161, 136, 72, 42, 4], [138, 81, 81, 39, 10], [25, 175, 60, 53, 5], [25, 129, 52, 44, 3], [108, 185, 59, 48, 1], [66, 95, 93, 59, 6], [233, 81, 31, 13, 2], [248, 158, 16, 11, 11]]\n"
          ]
        },
        {
          "output_type": "display_data",
          "data": {
            "text/plain": [
              "<Figure size 432x288 with 1 Axes>"
            ],
            "image/png": "[encoded data removed]"
          },
          "metadata": {
            "needs_background": "light"
          }
        },
        {
          "output_type": "stream",
          "name": "stdout",
          "text": [
            "9\n",
            "[[25, 81, 180, 83, 6], [149, 134, 69, 54, 4], [104, 189, 54, 45, 1], [234, 144, 30, 39, 11], [197, 206, 36, 37, 9], [217, 81, 43, 12, 2], [25, 174, 42, 46, 5]]\n"
          ]
        },
        {
          "output_type": "display_data",
          "data": {
            "text/plain": [
              "<Figure size 432x288 with 1 Axes>"
            ],
            "image/png": "[encoded data removed]"
          },
          "metadata": {
            "needs_background": "light"
          }
        }
      ]
    },
    {
      "cell_type": "markdown",
      "source": [
        "#Cluster more events"
      ],
      "metadata": {
        "id": "oh2rvf04NC_7"
      }
    },
    {
      "cell_type": "code",
      "execution_count": null,
      "metadata": {
        "id": "r7mF8eHJybwm",
        "colab": {
          "base_uri": "https://localhost:8080/"
        },
        "outputId": "fda0bb71-73e1-4ece-ddc9-e14bb2c919f4"
      },
      "outputs": [
        {
          "output_type": "stream",
          "name": "stdout",
          "text": [
            "reading davis dataset...\n",
            "23126288 events in dataset...\n",
            "dividing the sequence into 1000 segments...\n",
            "each segment has 23126 events, out of which 5781 events will be selected...\n",
            "segment no: 25\n",
            "removing noise...\n",
            "constructing graph...\n",
            "finding optimal number of clusters...\n",
            "clustering...\n",
            "saving files...\n",
            "segment no: 26\n",
            "removing noise...\n",
            "constructing graph...\n",
            "finding optimal number of clusters...\n",
            "clustering...\n",
            "saving files...\n",
            "segment no: 27\n",
            "removing noise...\n",
            "constructing graph...\n",
            "finding optimal number of clusters...\n",
            "clustering...\n",
            "saving files...\n",
            "segment no: 28\n",
            "removing noise...\n",
            "constructing graph...\n",
            "finding optimal number of clusters...\n",
            "clustering...\n",
            "saving files...\n",
            "segment no: 29\n",
            "removing noise...\n",
            "constructing graph...\n",
            "finding optimal number of clusters...\n",
            "clustering...\n",
            "saving files...\n",
            "segment no: 30\n",
            "removing noise...\n",
            "constructing graph...\n",
            "finding optimal number of clusters...\n",
            "clustering...\n",
            "saving files...\n",
            "segment no: 31\n",
            "removing noise...\n",
            "constructing graph...\n",
            "finding optimal number of clusters...\n",
            "clustering...\n",
            "saving files...\n",
            "segment no: 32\n",
            "removing noise...\n",
            "constructing graph...\n",
            "finding optimal number of clusters...\n",
            "clustering...\n",
            "saving files...\n",
            "segment no: 33\n",
            "removing noise...\n",
            "constructing graph...\n",
            "finding optimal number of clusters...\n",
            "clustering...\n",
            "saving files...\n",
            "segment no: 34\n",
            "removing noise...\n",
            "constructing graph...\n",
            "finding optimal number of clusters...\n",
            "clustering...\n",
            "saving files...\n",
            "segment no: 35\n",
            "removing noise...\n",
            "constructing graph...\n",
            "finding optimal number of clusters...\n",
            "clustering...\n",
            "saving files...\n",
            "segment no: 36\n",
            "removing noise...\n",
            "constructing graph...\n",
            "finding optimal number of clusters...\n",
            "clustering...\n",
            "saving files...\n",
            "segment no: 37\n",
            "removing noise...\n",
            "constructing graph...\n",
            "finding optimal number of clusters...\n",
            "clustering...\n",
            "saving files...\n",
            "segment no: 38\n",
            "removing noise...\n",
            "constructing graph...\n",
            "finding optimal number of clusters...\n"
          ]
        }
      ],
      "source": [
        "import os\n",
        "import matplotlib.pyplot as plt\n",
        "import random\n",
        "import h5py\n",
        "import numpy as np\n",
        "import warnings\n",
        "from sklearn.neighbors import kneighbors_graph\n",
        "from sklearn.cluster import SpectralClustering\n",
        "from sklearn.metrics import silhouette_score\n",
        "from sklearn.ensemble import IsolationForest\n",
        "print('reading davis dataset...')\n",
        "#file_name = \"Object Motion Data (mat files)/Cars_sequence.mat\"\n",
        "#f = h5py.File(file_name, \"r\")\n",
        "#davis = f['davis']\n",
        "#dvs = davis['dvs']\n",
        "#pol = dvs['p'][0]\n",
        "#ts = dvs['t'][0]\n",
        "#x = dvs['x'][0]\n",
        "#y = dvs['y'][0]\n",
        "\n",
        "#davis parameters\n",
        "file = dtable.fread('/content/drive/MyDrive/TRM/DAVIS 240C Dataset/events.txt', sep = ' ').to_pandas()\n",
        "file.columns = ['timestamp', 'x', 'y', 'polarity']\n",
        "file['polarity'] *= 1\n",
        "ts = np.array(file['timestamp'].values)\n",
        "x = np.array(file['x'].values)\n",
        "y = np.array(file['y'].values)\n",
        "pol = np.array(file['polarity'].values)\n",
        "\n",
        "\n",
        "warnings.filterwarnings('ignore', '.*Graph is not fully connected*')\n",
        "ALL = len(pol)\n",
        "NEIGHBORS = 30\n",
        "print(str(ALL)+' events in dataset...')\n",
        "seg = 1000\n",
        "while seg >= 1000:\n",
        "    print('dividing the sequence into '+str(seg)+' segments...')\n",
        "    X = ALL//seg\n",
        "    print('each segment has '+str(X)+' events, out of which '+str(X//4)+' events will be selected...')\n",
        "    for sl_no in range(24,100):\n",
        "\n",
        "        print('segment no: '+str(sl_no+1))\n",
        "        selected_events = []\n",
        "        for i in range(0,ALL)[sl_no*X:sl_no*X+X]:\n",
        "            selected_events.append([y[i], x[i], ts[i]*0.0001, pol[i]*0])\n",
        "        selected_events = np.asarray(selected_events)\n",
        "\n",
        "        print('removing noise...')\n",
        "        cleaned_events = IsolationForest(random_state=0, n_jobs=-1, contamination=0.05).fit(selected_events)\n",
        "        unwanted_events = cleaned_events.predict(selected_events)\n",
        "        selected_events_cleaned = selected_events[np.where(unwanted_events == 1, True, False)]\n",
        "\n",
        "        print('constructing graph...')\n",
        "        adMat_cleaned = kneighbors_graph(selected_events_cleaned, n_neighbors=NEIGHBORS)\n",
        "\n",
        "        print('finding optimal number of clusters...')\n",
        "        max_score = -20\n",
        "        opt_clusters = 2\n",
        "        for CLUSTERS in range(2, 10):\n",
        "            clustering = SpectralClustering(n_clusters=CLUSTERS, random_state=0,\n",
        "                                            affinity='precomputed_nearest_neighbors',\n",
        "                                            n_neighbors=NEIGHBORS, assign_labels='kmeans',\n",
        "                                            n_jobs=-1).fit_predict(adMat_cleaned)\n",
        "            curr_score = silhouette_score(selected_events_cleaned, clustering)\n",
        "            if curr_score > max_score:\n",
        "                max_score = curr_score\n",
        "                opt_clusters = CLUSTERS\n",
        "\n",
        "        print('clustering...')\n",
        "        clustering_opt = SpectralClustering(n_clusters=opt_clusters, random_state=0,\n",
        "                                            affinity='precomputed_nearest_neighbors',\n",
        "                                            n_neighbors=NEIGHBORS, assign_labels='kmeans',\n",
        "                                            n_jobs=-1).fit_predict(adMat_cleaned)\n",
        "\n",
        "        print('saving files...')\n",
        "\n",
        "        yy = str(sl_no)\n",
        "        file_name = yy\n",
        "        os.makedirs('results/davis240/'+str(seg)+'/selected_events', exist_ok=True)\n",
        "        os.makedirs('results/davis240/'+str(seg)+'/clusters', exist_ok=True)\n",
        "        np.save(os.path.join('results/davis240/'+str(seg)+'/selected_events', file_name + '.npy'), selected_events_cleaned)\n",
        "        np.save(os.path.join('results/davis240/'+str(seg)+'/clusters', file_name + '.npy'), clustering_opt)\n",
        "    break\n",
        "print('done')"
      ]
    },
    {
      "cell_type": "markdown",
      "source": [
        "#Silhouette score"
      ],
      "metadata": {
        "id": "_PMMpS78M0tj"
      }
    },
    {
      "cell_type": "code",
      "source": [
        "import numpy as np\n",
        "import sys\n",
        "from sklearn.metrics import silhouette_score\n",
        "from sklearn.neighbors import kneighbors_graph\n",
        "\n",
        "for i in range(0, 10):\n",
        "    print('img number: ', i)\n",
        "    selected_events = np.load(\"results/davis240/1000\"+\"/selected_events/\"+str(i) + \".npy\", )\n",
        "  #  print(sys.getsizeof(selected_events))\n",
        "    selected_events = selected_events.astype('int32')\n",
        "  #  print(sys.getsizeof(selected_events))\n",
        "    clustering = np.load(\"results/davis240/1000\"+\"/clusters/\"+str(i)+ \".npy\")\n",
        "  #  score = silhouette_score(adMat, clustering)\n",
        "\n",
        "  #  print(silhouette_score(adMat, clustering))\n",
        "    print(silhouette_score(selected_events, clustering))\n",
        "  #  break"
      ],
      "metadata": {
        "colab": {
          "base_uri": "https://localhost:8080/"
        },
        "id": "3d4vjQnj7VoW",
        "outputId": "da45ea6f-d364-40b9-dc6e-702df76e33d1"
      },
      "execution_count": null,
      "outputs": [
        {
          "output_type": "stream",
          "name": "stdout",
          "text": [
            "img number:  0\n",
            "0.32618602943645947\n",
            "img number:  1\n",
            "0.6915973078129005\n",
            "img number:  2\n",
            "0.6888843328000956\n",
            "img number:  3\n",
            "0.6869090328080623\n",
            "img number:  4\n",
            "0.706419531735073\n",
            "img number:  5\n",
            "0.7036965630342829\n",
            "img number:  6\n",
            "0.6936886370143793\n",
            "img number:  7\n",
            "0.6995705317484016\n",
            "img number:  8\n",
            "0.6942863862124233\n",
            "img number:  9\n",
            "0.5193488210976718\n"
          ]
        }
      ]
    }
  ],
  "metadata": {
    "colab": {
      "collapsed_sections": [],
      "name": "Spectral_clustering_euclidean_distance.ipynb",
      "provenance": [],
      "authorship_tag": "ABX9TyMXWJZU81HpaTi3SWLNQeg6",
      "include_colab_link": true
    },
    "kernelspec": {
      "display_name": "Python 3",
      "name": "python3"
    },
    "language_info": {
      "name": "python"
    }
  },
  "nbformat": 4,
  "nbformat_minor": 0
}